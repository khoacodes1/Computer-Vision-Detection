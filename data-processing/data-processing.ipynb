{
 "cells": [
  {
   "cell_type": "code",
   "execution_count": 3,
   "metadata": {},
   "outputs": [
    {
     "name": "stdout",
     "output_type": "stream",
     "text": [
      "./data/oidv6-train-annotations-bbox.csv\n",
      "./data/validation-annotations-bbox.csv\n",
      "./data/test-annotations-bbox.csv\n"
     ]
    }
   ],
   "source": [
    "import os\n",
    "\n",
    "train_bboxes_filename = os.path.join('.', 'data/oidv6-train-annotations-bbox.csv')\n",
    "validation_bboxes_filename = os.path.join('.', 'data/validation-annotations-bbox.csv')\n",
    "test_bboxes_filename = os.path.join('.', 'data/test-annotations-bbox.csv')\n",
    "\n",
    "image_list_file_path = os.path.join('.', 'image_list_file')\n",
    "\n",
    "# Target class IDs for processing\n",
    "target_class_ids = [\n",
    "    '/m/0199g',  # Bike\n",
    "    '/m/0k4j',   # Car\n",
    "    '/m/04yx4',  # Human Body\n",
    "    '/m/015qff', # Street Light\n",
    "    '/m/0h8lh',  # Stop Sign\n",
    "    '/m/01mqdt', # Traffic Sign\n",
    "    '/m/02dgv',  # Tree\n",
    "    '/m/0c9ph',  # Building\n",
    "    '/m/0bt9lr', # Dog\n",
    "    '/m/01yrx',  # Cat\n",
    "    '/m/04_sv',  # Motorcycle\n",
    "    '/m/01bjv',  # Bus\n",
    "    '/m/07jdr',  # Truck\n",
    "    '/m/015qbp'  # Traffic Light\n",
    "]\n",
    "\n",
    "image_list_file_list = []\n",
    "\n",
    "for j, filename in enumerate([train_bboxes_filename, validation_bboxes_filename, test_bboxes_filename]):\n",
    "    print(filename)\n",
    "    with open(filename, 'r') as f:\n",
    "        lines = f.readlines()  # Read all lines at once\n",
    "        for line in lines:\n",
    "            id, _, class_name, _, x1, x2, y1, y2, _, _, _, _, _ = line.split(',')[:13]\n",
    "            # Collect unique image IDs for target class IDs\n",
    "            if class_name in target_class_ids and id not in image_list_file_list:\n",
    "                image_list_file_list.append(id)\n",
    "                with open(image_list_file_path, 'a') as fw:\n",
    "                    fw.write('{}/{}\\n'.format(['train', 'validation', 'test'][j], id))"
   ]
  }
 ],
 "metadata": {
  "kernelspec": {
   "display_name": "Python 3",
   "language": "python",
   "name": "python3"
  },
  "language_info": {
   "codemirror_mode": {
    "name": "ipython",
    "version": 3
   },
   "file_extension": ".py",
   "mimetype": "text/x-python",
   "name": "python",
   "nbconvert_exporter": "python",
   "pygments_lexer": "ipython3",
   "version": "3.10.12"
  }
 },
 "nbformat": 4,
 "nbformat_minor": 2
}
