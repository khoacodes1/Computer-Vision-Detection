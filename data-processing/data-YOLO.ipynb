{
 "cells": [
  {
   "cell_type": "code",
   "execution_count": 2,
   "metadata": {},
   "outputs": [],
   "source": [
    "import os\n",
    "import shutil"
   ]
  },
  {
   "cell_type": "code",
   "execution_count": 5,
   "metadata": {},
   "outputs": [
    {
     "name": "stdout",
     "output_type": "stream",
     "text": [
      "Processing ./data/oidv6-train-annotations-bbox.csv...\n",
      "Processing ./data/validation-annotations-bbox.csv...\n",
      "Processing ./data/test-annotations-bbox.csv...\n",
      "Processing complete.\n"
     ]
    }
   ],
   "source": [
    "import os\n",
    "import shutil\n",
    "\n",
    "DOWNLOADS_DIR = os.path.join('.', 'downloads')\n",
    "DATASETS_DIR = os.path.join('.', 'datasets')\n",
    "\n",
    "# Create dataset structure\n",
    "for dir_ in ['images', 'labels']:\n",
    "    for set_ in ['train', 'validation', 'test']:\n",
    "        path = os.path.join(DATASETS_DIR, dir_, set_)\n",
    "        if os.path.exists(path):\n",
    "            shutil.rmtree(path)\n",
    "        os.makedirs(path)\n",
    "\n",
    "# Target class IDs for processing\n",
    "target_class_ids = {\n",
    "    '/m/0199g': 0,  # Bike\n",
    "    '/m/0k4j': 1,   # Car\n",
    "    '/m/04yx4': 2,  # Human Body\n",
    "    '/m/015qff': 3, # Street Light\n",
    "    '/m/0h8lh': 4,  # Stop Sign\n",
    "    '/m/01mqdt': 5, # Traffic Sign\n",
    "    '/m/02dgv': 6,  # Tree\n",
    "    '/m/0c9ph': 7,  # Building\n",
    "    '/m/0bt9lr': 8, # Dog\n",
    "    '/m/01yrx': 9,  # Cat\n",
    "    '/m/04_sv': 10, # Motorcycle\n",
    "    '/m/01bjv': 11, # Bus\n",
    "    '/m/07jdr': 12, # Truck\n",
    "    '/m/015qbp': 13 # Traffic Light\n",
    "}\n",
    "\n",
    "# Filenames for bounding boxes\n",
    "train_bboxes_filename = os.path.join('.', 'data/oidv6-train-annotations-bbox.csv')\n",
    "validation_bboxes_filename = os.path.join('.', 'data/validation-annotations-bbox.csv')\n",
    "test_bboxes_filename = os.path.join('.', 'data/test-annotations-bbox.csv')\n",
    "\n",
    "# Process each dataset\n",
    "for j, filename in enumerate([train_bboxes_filename, validation_bboxes_filename, test_bboxes_filename]):\n",
    "    set_ = ['train', 'validation', 'test'][j]\n",
    "    print(f\"Processing {filename}...\")\n",
    "\n",
    "    with open(filename, 'r') as f:\n",
    "        for line in f:  # Read file line-by-line\n",
    "            fields = line.split(',')[:13]\n",
    "            id, class_name = fields[0], fields[2]\n",
    "\n",
    "            # Process only target classes\n",
    "            if class_name in target_class_ids:\n",
    "                img_src = os.path.join(DOWNLOADS_DIR, f'{id}.jpg')\n",
    "                img_dst = os.path.join(DATASETS_DIR, 'images', set_, f'{id}.jpg')\n",
    "\n",
    "                # Copy image if not already copied\n",
    "                if not os.path.exists(img_dst):\n",
    "                    shutil.copy(img_src, img_dst)\n",
    "\n",
    "                # Write annotation with correct class ID\n",
    "                x1, x2, y1, y2 = map(float, [fields[4], fields[5], fields[6], fields[7]])\n",
    "                xc = (x1 + x2) / 2\n",
    "                yc = (y1 + y2) / 2\n",
    "                w = x2 - x1\n",
    "                h = y2 - y1\n",
    "\n",
    "                class_id = target_class_ids[class_name]  \n",
    "                ann_file = os.path.join(DATASETS_DIR, 'labels', set_, f'{id}.txt')\n",
    "                with open(ann_file, 'a') as f_ann:\n",
    "                    f_ann.write(f'{class_id} {xc:.6f} {yc:.6f} {w:.6f} {h:.6f}\\n')\n",
    "\n",
    "print(\"Processing complete.\")"
   ]
  }
 ],
 "metadata": {
  "kernelspec": {
   "display_name": "Python 3",
   "language": "python",
   "name": "python3"
  },
  "language_info": {
   "codemirror_mode": {
    "name": "ipython",
    "version": 3
   },
   "file_extension": ".py",
   "mimetype": "text/x-python",
   "name": "python",
   "nbconvert_exporter": "python",
   "pygments_lexer": "ipython3",
   "version": "3.10.12"
  }
 },
 "nbformat": 4,
 "nbformat_minor": 2
}
